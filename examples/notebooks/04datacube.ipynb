{
 "cells": [
  {
   "metadata": {},
   "cell_type": "code",
   "outputs": [],
   "execution_count": null,
   "source": [
    "# NBVAL_IGNORE_OUTPUT\n",
    "import matplotlib\n",
    "from IPython.display import HTML\n",
    "from pyramids.multidataset import MultiDataset\n",
    "%matplotlib inline"
   ],
   "id": "f4024530ef24c0b9"
  },
  {
   "metadata": {},
   "cell_type": "markdown",
   "source": "# Read multiple files",
   "id": "460031016819aace"
  },
  {
   "metadata": {},
   "cell_type": "markdown",
   "source": [
    "Reading multiple files is being done on two steps\n",
    "- First use the `read_multiple_files` method to parse files names and construct the array that will later have the\n",
    "values\n",
    "- Second use the `open_datacube` method to open all the raster files and read a specific band from each file"
   ],
   "id": "3bf366ea8db3e4d5"
  },
  {
   "metadata": {},
   "cell_type": "markdown",
   "source": "# read_multiple_files",
   "id": "f9ce0f4ddecb9021"
  },
  {
   "metadata": {},
   "cell_type": "markdown",
   "source": [
    "The given path points to a directory where all the raster we want to read exists\n",
    "The content of the directory is as following\n"
   ],
   "id": "6856e12043ef22f9"
  },
  {
   "metadata": {},
   "cell_type": "code",
   "outputs": [],
   "execution_count": null,
   "source": [
    "# NBVAL_IGNORE_OUTPUT\n",
    "import os\n",
    "path = r\"../../examples/data/geotiff/rhine\"\n",
    "os.listdir(path)"
   ],
   "id": "2eeac371e8ec16"
  },
  {
   "metadata": {},
   "cell_type": "markdown",
   "source": [
    "We need raster names to follow a certain pattern in order to be able to read them with a certain order, in our case\n",
    "there is a date in the file name and using this date we will read the rasters and assign the values of each one in\n",
    "the right location in the array based on their date"
   ],
   "id": "2acd9861b7e3388e"
  },
  {
   "metadata": {},
   "cell_type": "markdown",
   "source": "### Regex pattern",
   "id": "815927a151c0d922"
  },
  {
   "metadata": {},
   "cell_type": "markdown",
   "source": [
    "the parameter `regex_string` accepts any regex string and apply it to all file names to extract the string that is\n",
    "needed to order the files, this string can be an integer or a date\n",
    "here are some examples for how the `regex_string` should look like for different file names\n",
    "\n",
    ">>> fname = \"MSWEP_YYYY.MM.DD.tif\"\n",
    ">>> regex_string = r\"\\d{4}.\\d{2}.\\d{2}\"\n",
    "- or\n",
    ">>> fname = \"MSWEP_YYYY_M_D.tif\"\n",
    ">>> regex_string = r\"\\d{4}_\\d{1}_\\d{1}\"\n",
    "- if there is a number at the beginning of the name\n",
    ">>> fname = \"1_MSWEP_YYYY_M_D.tif\"\n",
    ">>> regex_string = r\"\\d+\""
   ],
   "id": "7fbc34d03a70983f"
  },
  {
   "metadata": {},
   "cell_type": "code",
   "outputs": [],
   "execution_count": null,
   "source": [
    "m_dataset = MultiDataset.read_multiple_files(\n",
    "    path, with_order=True, regex_string=r\"\\d{4}-\\d{2}-\\d{2}\", date=True, file_name_data_fmt=\"%Y-%m-%d\"\n",
    ")"
   ],
   "id": "83976d0bf3b9c4a1"
  },
  {
   "metadata": {},
   "cell_type": "markdown",
   "source": "Now the `Datacube` object is created and we can check it by printing the object",
   "id": "b050478e28de2214"
  },
  {
   "metadata": {},
   "cell_type": "code",
   "outputs": [],
   "execution_count": null,
   "source": "print(m_dataset)",
   "id": "e63c8a7cadecf43e"
  },
  {
   "metadata": {},
   "cell_type": "markdown",
   "source": "# open_datacube",
   "id": "2b2e9127de7b72f5"
  },
  {
   "metadata": {},
   "cell_type": "markdown",
   "source": [
    "To read a specific band from each file and assign it to its location in the array we can pass the band index to the\n",
    "`open_datacube` method, (the default band value is 0)"
   ],
   "id": "54e86e479684943b"
  },
  {
   "metadata": {},
   "cell_type": "code",
   "outputs": [],
   "execution_count": null,
   "source": "m_dataset.open_MultiDataset()",
   "id": "68ed16169a56340f"
  },
  {
   "metadata": {},
   "cell_type": "code",
   "outputs": [],
   "execution_count": null,
   "source": [
    "# NBVAL_IGNORE_OUTPUT\n",
    "print(m_dataset.values)"
   ],
   "id": "817a3bbb6c2edbfa"
  },
  {
   "metadata": {},
   "cell_type": "markdown",
   "source": "# plot",
   "id": "adf6be0bbcbcb726"
  },
  {
   "metadata": {},
   "cell_type": "markdown",
   "source": "To animate the `Datacube` use the plot function",
   "id": "71d60771090b1f80"
  },
  {
   "metadata": {},
   "cell_type": "code",
   "outputs": [],
   "execution_count": null,
   "source": [
    "# NBVAL_IGNORE_OUTPUT\n",
    "cleo = m_dataset.plot(exclude_value=0, text_loc=(1, 3), color_scale=\"linear\", vmin=1, vmax=100)\n",
    "print(cleo)"
   ],
   "id": "c4ce957dfdae131b"
  },
  {
   "metadata": {},
   "cell_type": "code",
   "outputs": [],
   "execution_count": null,
   "source": [
    "# NBVAL_IGNORE_OUTPUT\n",
    "HTML(cleo.anim.to_jshtml())"
   ],
   "id": "862d969e24a810cc"
  }
 ],
 "metadata": {},
 "nbformat": 4,
 "nbformat_minor": 5
}

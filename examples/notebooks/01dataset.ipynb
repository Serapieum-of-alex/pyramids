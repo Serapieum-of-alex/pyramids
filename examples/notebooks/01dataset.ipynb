{
 "cells": [
  {
   "cell_type": "markdown",
   "metadata": {
    "ExecuteTime": {
     "end_time": "2024-06-19T21:10:03.757392Z",
     "start_time": "2024-06-19T21:10:03.754399Z"
    },
    "collapsed": false,
    "jupyter": {
     "outputs_hidden": false
    }
   },
   "source": [
    "# Dataset"
   ]
  },
  {
   "cell_type": "markdown",
   "metadata": {
    "collapsed": false,
    "jupyter": {
     "outputs_hidden": false
    }
   },
   "source": [
    "<p align=\"center\">\n",
    "        <img src=\"../../docs/_images/schemes/dataset-attributes.png\" alt= \"dataset prperties\" width=300 height=900>\n",
    "</p>"
   ]
  },
  {
   "metadata": {
    "ExecuteTime": {
     "end_time": "2025-08-25T20:19:35.210624Z",
     "start_time": "2025-08-25T20:19:33.437590Z"
    }
   },
   "cell_type": "code",
   "source": [
    "# NBVAL_IGNORE_OUTPUT\n",
    "from pyramids.dataset import Dataset\n",
    "path = r\"../../examples/data/geotiff/noah-precipitation-1979.tif\""
   ],
   "outputs": [
    {
     "name": "stderr",
     "output_type": "stream",
     "text": [
      "2025-08-25 22:19:33,787 - pyramids.config - INFO - Logging is configured.\n",
      "2025-08-25 22:19:34,126 - pyramids.config - INFO - CONDA_PREFIX is not set. Ensure Conda is activated.\n",
      "2025-08-25 22:19:34,127 - pyramids.config - INFO - GDAL_DRIVER_PATH set to: C:\\pixi\\envs\\pyramids-gis-17387402636982928789\\envs\\dev\\Library\\Lib\\gdalplugins\n"
     ]
    }
   ],
   "execution_count": 1
  },
  {
   "cell_type": "markdown",
   "metadata": {
    "collapsed": false,
    "jupyter": {
     "outputs_hidden": false
    }
   },
   "source": [
    "### Read any raster format"
   ]
  },
  {
   "cell_type": "code",
   "metadata": {
    "collapsed": false,
    "jupyter": {
     "outputs_hidden": false
    },
    "ExecuteTime": {
     "end_time": "2025-08-25T20:19:38.353399Z",
     "start_time": "2025-08-25T20:19:38.330196Z"
    }
   },
   "source": [
    "dataset = Dataset.read_file(path)"
   ],
   "outputs": [],
   "execution_count": 2
  },
  {
   "cell_type": "markdown",
   "metadata": {
    "collapsed": false,
    "jupyter": {
     "outputs_hidden": false
    }
   },
   "source": [
    "### Explore Dataset properties"
   ]
  },
  {
   "cell_type": "code",
   "metadata": {
    "collapsed": false,
    "jupyter": {
     "outputs_hidden": false
    },
    "ExecuteTime": {
     "end_time": "2025-08-25T20:19:42.234488Z",
     "start_time": "2025-08-25T20:19:42.226393Z"
    }
   },
   "source": [
    "print(dataset)"
   ],
   "outputs": [
    {
     "name": "stdout",
     "output_type": "stream",
     "text": [
      "\n",
      "            Top Left Corner: (0.0, 90.0)\n",
      "            Cell size: 0.5\n",
      "            Dimension: 360 * 720\n",
      "            EPSG: 4326\n",
      "            Number of Bands: 4\n",
      "            Band names: ['Band_1', 'Band_2', 'Band_3', 'Band_4']\n",
      "            Band colors: {0: 'gray_index', 1: 'undefined', 2: 'undefined', 3: 'undefined'}\n",
      "            Band units: ['', '', '', '']\n",
      "            Scale: [1.0, 1.0, 1.0, 1.0]\n",
      "            Offset: [0, 0, 0, 0]\n",
      "            Mask: -9.969209968386869e+36\n",
      "            Data type: float32\n",
      "            File: ../../examples/data/geotiff/noah-precipitation-1979.tif\n",
      "        \n"
     ]
    }
   ],
   "execution_count": 3
  },
  {
   "cell_type": "markdown",
   "metadata": {
    "collapsed": false,
    "jupyter": {
     "outputs_hidden": false
    }
   },
   "source": [
    "### Plot Dataset"
   ]
  },
  {
   "cell_type": "code",
   "metadata": {
    "collapsed": false,
    "jupyter": {
     "outputs_hidden": false,
     "is_executing": true
    },
    "ExecuteTime": {
     "start_time": "2025-08-25T20:21:01.643356Z"
    }
   },
   "source": [
    "array_glyph = dataset.plot(\n",
    "    band=0, figsize=(10, 5), title=\"Noah daily Precipitation 1979-01-01\", cbar_label=\"Raindall mm/day\", vmax=30,\n",
    "    cbar_length=0.85\n",
    ")"
   ],
   "outputs": [
    {
     "name": "stdout",
     "output_type": "stream",
     "text": [
      "Matplotlib backend set to inline for static plots in Jupyter notebook\n"
     ]
    }
   ],
   "execution_count": null
  },
  {
   "cell_type": "markdown",
   "metadata": {
    "collapsed": false,
    "jupyter": {
     "outputs_hidden": false
    }
   },
   "source": [
    "### Dataset dimension"
   ]
  },
  {
   "cell_type": "code",
   "metadata": {
    "collapsed": false,
    "jupyter": {
     "outputs_hidden": false
    },
    "ExecuteTime": {
     "end_time": "2025-08-25T20:19:06.111738100Z",
     "start_time": "2025-01-12T19:13:46.168639Z"
    }
   },
   "source": [
    "print(f\"Dataset dimensions: {dataset.shape}\")\n",
    "print(f\"Dataset rows: {dataset.rows}\")\n",
    "print(f\"Dataset columns: {dataset.columns}\")\n",
    "print(f\"Dataset number of bands: {dataset.band_count}\")"
   ],
   "outputs": [
    {
     "name": "stdout",
     "output_type": "stream",
     "text": [
      "Dataset dimensions: (4, 360, 720)\n",
      "Dataset rows: 360\n",
      "Dataset columns: 720\n",
      "Dataset number of bands: 4\n"
     ]
    }
   ],
   "execution_count": 6
  },
  {
   "cell_type": "code",
   "metadata": {
    "collapsed": false,
    "jupyter": {
     "outputs_hidden": false
    },
    "ExecuteTime": {
     "end_time": "2025-08-25T20:19:06.123486300Z",
     "start_time": "2025-01-12T19:13:48.513015Z"
    }
   },
   "source": [
    "print(f\"Cell size: {dataset.cell_size}\")"
   ],
   "outputs": [
    {
     "name": "stdout",
     "output_type": "stream",
     "text": [
      "Cell size: 0.5\n"
     ]
    }
   ],
   "execution_count": 7
  },
  {
   "cell_type": "code",
   "metadata": {
    "collapsed": false,
    "jupyter": {
     "outputs_hidden": false
    },
    "ExecuteTime": {
     "end_time": "2025-08-25T20:19:06.123486300Z",
     "start_time": "2025-01-12T19:13:50.487559Z"
    }
   },
   "source": [
    "dataset.band_names"
   ],
   "outputs": [
    {
     "data": {
      "text/plain": [
       "['Band_1', 'Band_2', 'Band_3', 'Band_4']"
      ]
     },
     "execution_count": 8,
     "metadata": {},
     "output_type": "execute_result"
    }
   ],
   "execution_count": 8
  },
  {
   "cell_type": "markdown",
   "metadata": {
    "collapsed": false,
    "jupyter": {
     "outputs_hidden": false
    }
   },
   "source": [
    "### Dataset spatial properties"
   ]
  },
  {
   "cell_type": "code",
   "metadata": {
    "collapsed": false,
    "jupyter": {
     "outputs_hidden": false
    },
    "ExecuteTime": {
     "end_time": "2025-08-25T20:19:06.170954Z",
     "start_time": "2025-01-12T19:13:57.262726Z"
    }
   },
   "source": [
    "print(f\"EPSG: {dataset.epsg}\")\n",
    "print(f\"Coordinate reference system: {dataset.crs}\")"
   ],
   "outputs": [
    {
     "name": "stdout",
     "output_type": "stream",
     "text": [
      "EPSG: 4326\n",
      "Coordinate reference system: GEOGCS[\"WGS 84\",DATUM[\"WGS_1984\",SPHEROID[\"WGS 84\",6378137,298.257223563,AUTHORITY[\"EPSG\",\"7030\"]],AUTHORITY[\"EPSG\",\"6326\"]],PRIMEM[\"Greenwich\",0,AUTHORITY[\"EPSG\",\"8901\"]],UNIT[\"degree\",0.0174532925199433,AUTHORITY[\"EPSG\",\"9122\"]],AXIS[\"Latitude\",NORTH],AXIS[\"Longitude\",EAST],AUTHORITY[\"EPSG\",\"4326\"]]\n"
     ]
    }
   ],
   "execution_count": 10
  },
  {
   "cell_type": "code",
   "metadata": {
    "collapsed": false,
    "jupyter": {
     "outputs_hidden": false
    },
    "ExecuteTime": {
     "end_time": "2025-08-25T20:19:06.170954Z",
     "start_time": "2025-01-12T19:13:59.055346Z"
    }
   },
   "source": [
    "dataset.lon"
   ],
   "outputs": [
    {
     "data": {
      "text/plain": [
       "array([2.5000e-01, 7.5000e-01, 1.2500e+00, 1.7500e+00, 2.2500e+00,\n",
       "       2.7500e+00, 3.2500e+00, 3.7500e+00, 4.2500e+00, 4.7500e+00,\n",
       "       5.2500e+00, 5.7500e+00, 6.2500e+00, 6.7500e+00, 7.2500e+00,\n",
       "       7.7500e+00, 8.2500e+00, 8.7500e+00, 9.2500e+00, 9.7500e+00,\n",
       "       1.0250e+01, 1.0750e+01, 1.1250e+01, 1.1750e+01, 1.2250e+01,\n",
       "       1.2750e+01, 1.3250e+01, 1.3750e+01, 1.4250e+01, 1.4750e+01,\n",
       "       1.5250e+01, 1.5750e+01, 1.6250e+01, 1.6750e+01, 1.7250e+01,\n",
       "       1.7750e+01, 1.8250e+01, 1.8750e+01, 1.9250e+01, 1.9750e+01,\n",
       "       2.0250e+01, 2.0750e+01, 2.1250e+01, 2.1750e+01, 2.2250e+01,\n",
       "       2.2750e+01, 2.3250e+01, 2.3750e+01, 2.4250e+01, 2.4750e+01,\n",
       "       2.5250e+01, 2.5750e+01, 2.6250e+01, 2.6750e+01, 2.7250e+01,\n",
       "       2.7750e+01, 2.8250e+01, 2.8750e+01, 2.9250e+01, 2.9750e+01,\n",
       "       3.0250e+01, 3.0750e+01, 3.1250e+01, 3.1750e+01, 3.2250e+01,\n",
       "       3.2750e+01, 3.3250e+01, 3.3750e+01, 3.4250e+01, 3.4750e+01,\n",
       "       3.5250e+01, 3.5750e+01, 3.6250e+01, 3.6750e+01, 3.7250e+01,\n",
       "       3.7750e+01, 3.8250e+01, 3.8750e+01, 3.9250e+01, 3.9750e+01,\n",
       "       4.0250e+01, 4.0750e+01, 4.1250e+01, 4.1750e+01, 4.2250e+01,\n",
       "       4.2750e+01, 4.3250e+01, 4.3750e+01, 4.4250e+01, 4.4750e+01,\n",
       "       4.5250e+01, 4.5750e+01, 4.6250e+01, 4.6750e+01, 4.7250e+01,\n",
       "       4.7750e+01, 4.8250e+01, 4.8750e+01, 4.9250e+01, 4.9750e+01,\n",
       "       5.0250e+01, 5.0750e+01, 5.1250e+01, 5.1750e+01, 5.2250e+01,\n",
       "       5.2750e+01, 5.3250e+01, 5.3750e+01, 5.4250e+01, 5.4750e+01,\n",
       "       5.5250e+01, 5.5750e+01, 5.6250e+01, 5.6750e+01, 5.7250e+01,\n",
       "       5.7750e+01, 5.8250e+01, 5.8750e+01, 5.9250e+01, 5.9750e+01,\n",
       "       6.0250e+01, 6.0750e+01, 6.1250e+01, 6.1750e+01, 6.2250e+01,\n",
       "       6.2750e+01, 6.3250e+01, 6.3750e+01, 6.4250e+01, 6.4750e+01,\n",
       "       6.5250e+01, 6.5750e+01, 6.6250e+01, 6.6750e+01, 6.7250e+01,\n",
       "       6.7750e+01, 6.8250e+01, 6.8750e+01, 6.9250e+01, 6.9750e+01,\n",
       "       7.0250e+01, 7.0750e+01, 7.1250e+01, 7.1750e+01, 7.2250e+01,\n",
       "       7.2750e+01, 7.3250e+01, 7.3750e+01, 7.4250e+01, 7.4750e+01,\n",
       "       7.5250e+01, 7.5750e+01, 7.6250e+01, 7.6750e+01, 7.7250e+01,\n",
       "       7.7750e+01, 7.8250e+01, 7.8750e+01, 7.9250e+01, 7.9750e+01,\n",
       "       8.0250e+01, 8.0750e+01, 8.1250e+01, 8.1750e+01, 8.2250e+01,\n",
       "       8.2750e+01, 8.3250e+01, 8.3750e+01, 8.4250e+01, 8.4750e+01,\n",
       "       8.5250e+01, 8.5750e+01, 8.6250e+01, 8.6750e+01, 8.7250e+01,\n",
       "       8.7750e+01, 8.8250e+01, 8.8750e+01, 8.9250e+01, 8.9750e+01,\n",
       "       9.0250e+01, 9.0750e+01, 9.1250e+01, 9.1750e+01, 9.2250e+01,\n",
       "       9.2750e+01, 9.3250e+01, 9.3750e+01, 9.4250e+01, 9.4750e+01,\n",
       "       9.5250e+01, 9.5750e+01, 9.6250e+01, 9.6750e+01, 9.7250e+01,\n",
       "       9.7750e+01, 9.8250e+01, 9.8750e+01, 9.9250e+01, 9.9750e+01,\n",
       "       1.0025e+02, 1.0075e+02, 1.0125e+02, 1.0175e+02, 1.0225e+02,\n",
       "       1.0275e+02, 1.0325e+02, 1.0375e+02, 1.0425e+02, 1.0475e+02,\n",
       "       1.0525e+02, 1.0575e+02, 1.0625e+02, 1.0675e+02, 1.0725e+02,\n",
       "       1.0775e+02, 1.0825e+02, 1.0875e+02, 1.0925e+02, 1.0975e+02,\n",
       "       1.1025e+02, 1.1075e+02, 1.1125e+02, 1.1175e+02, 1.1225e+02,\n",
       "       1.1275e+02, 1.1325e+02, 1.1375e+02, 1.1425e+02, 1.1475e+02,\n",
       "       1.1525e+02, 1.1575e+02, 1.1625e+02, 1.1675e+02, 1.1725e+02,\n",
       "       1.1775e+02, 1.1825e+02, 1.1875e+02, 1.1925e+02, 1.1975e+02,\n",
       "       1.2025e+02, 1.2075e+02, 1.2125e+02, 1.2175e+02, 1.2225e+02,\n",
       "       1.2275e+02, 1.2325e+02, 1.2375e+02, 1.2425e+02, 1.2475e+02,\n",
       "       1.2525e+02, 1.2575e+02, 1.2625e+02, 1.2675e+02, 1.2725e+02,\n",
       "       1.2775e+02, 1.2825e+02, 1.2875e+02, 1.2925e+02, 1.2975e+02,\n",
       "       1.3025e+02, 1.3075e+02, 1.3125e+02, 1.3175e+02, 1.3225e+02,\n",
       "       1.3275e+02, 1.3325e+02, 1.3375e+02, 1.3425e+02, 1.3475e+02,\n",
       "       1.3525e+02, 1.3575e+02, 1.3625e+02, 1.3675e+02, 1.3725e+02,\n",
       "       1.3775e+02, 1.3825e+02, 1.3875e+02, 1.3925e+02, 1.3975e+02,\n",
       "       1.4025e+02, 1.4075e+02, 1.4125e+02, 1.4175e+02, 1.4225e+02,\n",
       "       1.4275e+02, 1.4325e+02, 1.4375e+02, 1.4425e+02, 1.4475e+02,\n",
       "       1.4525e+02, 1.4575e+02, 1.4625e+02, 1.4675e+02, 1.4725e+02,\n",
       "       1.4775e+02, 1.4825e+02, 1.4875e+02, 1.4925e+02, 1.4975e+02,\n",
       "       1.5025e+02, 1.5075e+02, 1.5125e+02, 1.5175e+02, 1.5225e+02,\n",
       "       1.5275e+02, 1.5325e+02, 1.5375e+02, 1.5425e+02, 1.5475e+02,\n",
       "       1.5525e+02, 1.5575e+02, 1.5625e+02, 1.5675e+02, 1.5725e+02,\n",
       "       1.5775e+02, 1.5825e+02, 1.5875e+02, 1.5925e+02, 1.5975e+02,\n",
       "       1.6025e+02, 1.6075e+02, 1.6125e+02, 1.6175e+02, 1.6225e+02,\n",
       "       1.6275e+02, 1.6325e+02, 1.6375e+02, 1.6425e+02, 1.6475e+02,\n",
       "       1.6525e+02, 1.6575e+02, 1.6625e+02, 1.6675e+02, 1.6725e+02,\n",
       "       1.6775e+02, 1.6825e+02, 1.6875e+02, 1.6925e+02, 1.6975e+02,\n",
       "       1.7025e+02, 1.7075e+02, 1.7125e+02, 1.7175e+02, 1.7225e+02,\n",
       "       1.7275e+02, 1.7325e+02, 1.7375e+02, 1.7425e+02, 1.7475e+02,\n",
       "       1.7525e+02, 1.7575e+02, 1.7625e+02, 1.7675e+02, 1.7725e+02,\n",
       "       1.7775e+02, 1.7825e+02, 1.7875e+02, 1.7925e+02, 1.7975e+02,\n",
       "       1.8025e+02, 1.8075e+02, 1.8125e+02, 1.8175e+02, 1.8225e+02,\n",
       "       1.8275e+02, 1.8325e+02, 1.8375e+02, 1.8425e+02, 1.8475e+02,\n",
       "       1.8525e+02, 1.8575e+02, 1.8625e+02, 1.8675e+02, 1.8725e+02,\n",
       "       1.8775e+02, 1.8825e+02, 1.8875e+02, 1.8925e+02, 1.8975e+02,\n",
       "       1.9025e+02, 1.9075e+02, 1.9125e+02, 1.9175e+02, 1.9225e+02,\n",
       "       1.9275e+02, 1.9325e+02, 1.9375e+02, 1.9425e+02, 1.9475e+02,\n",
       "       1.9525e+02, 1.9575e+02, 1.9625e+02, 1.9675e+02, 1.9725e+02,\n",
       "       1.9775e+02, 1.9825e+02, 1.9875e+02, 1.9925e+02, 1.9975e+02,\n",
       "       2.0025e+02, 2.0075e+02, 2.0125e+02, 2.0175e+02, 2.0225e+02,\n",
       "       2.0275e+02, 2.0325e+02, 2.0375e+02, 2.0425e+02, 2.0475e+02,\n",
       "       2.0525e+02, 2.0575e+02, 2.0625e+02, 2.0675e+02, 2.0725e+02,\n",
       "       2.0775e+02, 2.0825e+02, 2.0875e+02, 2.0925e+02, 2.0975e+02,\n",
       "       2.1025e+02, 2.1075e+02, 2.1125e+02, 2.1175e+02, 2.1225e+02,\n",
       "       2.1275e+02, 2.1325e+02, 2.1375e+02, 2.1425e+02, 2.1475e+02,\n",
       "       2.1525e+02, 2.1575e+02, 2.1625e+02, 2.1675e+02, 2.1725e+02,\n",
       "       2.1775e+02, 2.1825e+02, 2.1875e+02, 2.1925e+02, 2.1975e+02,\n",
       "       2.2025e+02, 2.2075e+02, 2.2125e+02, 2.2175e+02, 2.2225e+02,\n",
       "       2.2275e+02, 2.2325e+02, 2.2375e+02, 2.2425e+02, 2.2475e+02,\n",
       "       2.2525e+02, 2.2575e+02, 2.2625e+02, 2.2675e+02, 2.2725e+02,\n",
       "       2.2775e+02, 2.2825e+02, 2.2875e+02, 2.2925e+02, 2.2975e+02,\n",
       "       2.3025e+02, 2.3075e+02, 2.3125e+02, 2.3175e+02, 2.3225e+02,\n",
       "       2.3275e+02, 2.3325e+02, 2.3375e+02, 2.3425e+02, 2.3475e+02,\n",
       "       2.3525e+02, 2.3575e+02, 2.3625e+02, 2.3675e+02, 2.3725e+02,\n",
       "       2.3775e+02, 2.3825e+02, 2.3875e+02, 2.3925e+02, 2.3975e+02,\n",
       "       2.4025e+02, 2.4075e+02, 2.4125e+02, 2.4175e+02, 2.4225e+02,\n",
       "       2.4275e+02, 2.4325e+02, 2.4375e+02, 2.4425e+02, 2.4475e+02,\n",
       "       2.4525e+02, 2.4575e+02, 2.4625e+02, 2.4675e+02, 2.4725e+02,\n",
       "       2.4775e+02, 2.4825e+02, 2.4875e+02, 2.4925e+02, 2.4975e+02,\n",
       "       2.5025e+02, 2.5075e+02, 2.5125e+02, 2.5175e+02, 2.5225e+02,\n",
       "       2.5275e+02, 2.5325e+02, 2.5375e+02, 2.5425e+02, 2.5475e+02,\n",
       "       2.5525e+02, 2.5575e+02, 2.5625e+02, 2.5675e+02, 2.5725e+02,\n",
       "       2.5775e+02, 2.5825e+02, 2.5875e+02, 2.5925e+02, 2.5975e+02,\n",
       "       2.6025e+02, 2.6075e+02, 2.6125e+02, 2.6175e+02, 2.6225e+02,\n",
       "       2.6275e+02, 2.6325e+02, 2.6375e+02, 2.6425e+02, 2.6475e+02,\n",
       "       2.6525e+02, 2.6575e+02, 2.6625e+02, 2.6675e+02, 2.6725e+02,\n",
       "       2.6775e+02, 2.6825e+02, 2.6875e+02, 2.6925e+02, 2.6975e+02,\n",
       "       2.7025e+02, 2.7075e+02, 2.7125e+02, 2.7175e+02, 2.7225e+02,\n",
       "       2.7275e+02, 2.7325e+02, 2.7375e+02, 2.7425e+02, 2.7475e+02,\n",
       "       2.7525e+02, 2.7575e+02, 2.7625e+02, 2.7675e+02, 2.7725e+02,\n",
       "       2.7775e+02, 2.7825e+02, 2.7875e+02, 2.7925e+02, 2.7975e+02,\n",
       "       2.8025e+02, 2.8075e+02, 2.8125e+02, 2.8175e+02, 2.8225e+02,\n",
       "       2.8275e+02, 2.8325e+02, 2.8375e+02, 2.8425e+02, 2.8475e+02,\n",
       "       2.8525e+02, 2.8575e+02, 2.8625e+02, 2.8675e+02, 2.8725e+02,\n",
       "       2.8775e+02, 2.8825e+02, 2.8875e+02, 2.8925e+02, 2.8975e+02,\n",
       "       2.9025e+02, 2.9075e+02, 2.9125e+02, 2.9175e+02, 2.9225e+02,\n",
       "       2.9275e+02, 2.9325e+02, 2.9375e+02, 2.9425e+02, 2.9475e+02,\n",
       "       2.9525e+02, 2.9575e+02, 2.9625e+02, 2.9675e+02, 2.9725e+02,\n",
       "       2.9775e+02, 2.9825e+02, 2.9875e+02, 2.9925e+02, 2.9975e+02,\n",
       "       3.0025e+02, 3.0075e+02, 3.0125e+02, 3.0175e+02, 3.0225e+02,\n",
       "       3.0275e+02, 3.0325e+02, 3.0375e+02, 3.0425e+02, 3.0475e+02,\n",
       "       3.0525e+02, 3.0575e+02, 3.0625e+02, 3.0675e+02, 3.0725e+02,\n",
       "       3.0775e+02, 3.0825e+02, 3.0875e+02, 3.0925e+02, 3.0975e+02,\n",
       "       3.1025e+02, 3.1075e+02, 3.1125e+02, 3.1175e+02, 3.1225e+02,\n",
       "       3.1275e+02, 3.1325e+02, 3.1375e+02, 3.1425e+02, 3.1475e+02,\n",
       "       3.1525e+02, 3.1575e+02, 3.1625e+02, 3.1675e+02, 3.1725e+02,\n",
       "       3.1775e+02, 3.1825e+02, 3.1875e+02, 3.1925e+02, 3.1975e+02,\n",
       "       3.2025e+02, 3.2075e+02, 3.2125e+02, 3.2175e+02, 3.2225e+02,\n",
       "       3.2275e+02, 3.2325e+02, 3.2375e+02, 3.2425e+02, 3.2475e+02,\n",
       "       3.2525e+02, 3.2575e+02, 3.2625e+02, 3.2675e+02, 3.2725e+02,\n",
       "       3.2775e+02, 3.2825e+02, 3.2875e+02, 3.2925e+02, 3.2975e+02,\n",
       "       3.3025e+02, 3.3075e+02, 3.3125e+02, 3.3175e+02, 3.3225e+02,\n",
       "       3.3275e+02, 3.3325e+02, 3.3375e+02, 3.3425e+02, 3.3475e+02,\n",
       "       3.3525e+02, 3.3575e+02, 3.3625e+02, 3.3675e+02, 3.3725e+02,\n",
       "       3.3775e+02, 3.3825e+02, 3.3875e+02, 3.3925e+02, 3.3975e+02,\n",
       "       3.4025e+02, 3.4075e+02, 3.4125e+02, 3.4175e+02, 3.4225e+02,\n",
       "       3.4275e+02, 3.4325e+02, 3.4375e+02, 3.4425e+02, 3.4475e+02,\n",
       "       3.4525e+02, 3.4575e+02, 3.4625e+02, 3.4675e+02, 3.4725e+02,\n",
       "       3.4775e+02, 3.4825e+02, 3.4875e+02, 3.4925e+02, 3.4975e+02,\n",
       "       3.5025e+02, 3.5075e+02, 3.5125e+02, 3.5175e+02, 3.5225e+02,\n",
       "       3.5275e+02, 3.5325e+02, 3.5375e+02, 3.5425e+02, 3.5475e+02,\n",
       "       3.5525e+02, 3.5575e+02, 3.5625e+02, 3.5675e+02, 3.5725e+02,\n",
       "       3.5775e+02, 3.5825e+02, 3.5875e+02, 3.5925e+02, 3.5975e+02])"
      ]
     },
     "execution_count": 11,
     "metadata": {},
     "output_type": "execute_result"
    }
   ],
   "execution_count": 11
  },
  {
   "cell_type": "code",
   "metadata": {
    "collapsed": false,
    "jupyter": {
     "outputs_hidden": false
    },
    "ExecuteTime": {
     "end_time": "2025-08-25T20:19:06.170954Z",
     "start_time": "2025-01-12T19:14:00.055590Z"
    }
   },
   "source": [
    "dataset.lat"
   ],
   "outputs": [
    {
     "data": {
      "text/plain": [
       "array([ 89.75,  89.25,  88.75,  88.25,  87.75,  87.25,  86.75,  86.25,\n",
       "        85.75,  85.25,  84.75,  84.25,  83.75,  83.25,  82.75,  82.25,\n",
       "        81.75,  81.25,  80.75,  80.25,  79.75,  79.25,  78.75,  78.25,\n",
       "        77.75,  77.25,  76.75,  76.25,  75.75,  75.25,  74.75,  74.25,\n",
       "        73.75,  73.25,  72.75,  72.25,  71.75,  71.25,  70.75,  70.25,\n",
       "        69.75,  69.25,  68.75,  68.25,  67.75,  67.25,  66.75,  66.25,\n",
       "        65.75,  65.25,  64.75,  64.25,  63.75,  63.25,  62.75,  62.25,\n",
       "        61.75,  61.25,  60.75,  60.25,  59.75,  59.25,  58.75,  58.25,\n",
       "        57.75,  57.25,  56.75,  56.25,  55.75,  55.25,  54.75,  54.25,\n",
       "        53.75,  53.25,  52.75,  52.25,  51.75,  51.25,  50.75,  50.25,\n",
       "        49.75,  49.25,  48.75,  48.25,  47.75,  47.25,  46.75,  46.25,\n",
       "        45.75,  45.25,  44.75,  44.25,  43.75,  43.25,  42.75,  42.25,\n",
       "        41.75,  41.25,  40.75,  40.25,  39.75,  39.25,  38.75,  38.25,\n",
       "        37.75,  37.25,  36.75,  36.25,  35.75,  35.25,  34.75,  34.25,\n",
       "        33.75,  33.25,  32.75,  32.25,  31.75,  31.25,  30.75,  30.25,\n",
       "        29.75,  29.25,  28.75,  28.25,  27.75,  27.25,  26.75,  26.25,\n",
       "        25.75,  25.25,  24.75,  24.25,  23.75,  23.25,  22.75,  22.25,\n",
       "        21.75,  21.25,  20.75,  20.25,  19.75,  19.25,  18.75,  18.25,\n",
       "        17.75,  17.25,  16.75,  16.25,  15.75,  15.25,  14.75,  14.25,\n",
       "        13.75,  13.25,  12.75,  12.25,  11.75,  11.25,  10.75,  10.25,\n",
       "         9.75,   9.25,   8.75,   8.25,   7.75,   7.25,   6.75,   6.25,\n",
       "         5.75,   5.25,   4.75,   4.25,   3.75,   3.25,   2.75,   2.25,\n",
       "         1.75,   1.25,   0.75,   0.25,  -0.25,  -0.75,  -1.25,  -1.75,\n",
       "        -2.25,  -2.75,  -3.25,  -3.75,  -4.25,  -4.75,  -5.25,  -5.75,\n",
       "        -6.25,  -6.75,  -7.25,  -7.75,  -8.25,  -8.75,  -9.25,  -9.75,\n",
       "       -10.25, -10.75, -11.25, -11.75, -12.25, -12.75, -13.25, -13.75,\n",
       "       -14.25, -14.75, -15.25, -15.75, -16.25, -16.75, -17.25, -17.75,\n",
       "       -18.25, -18.75, -19.25, -19.75, -20.25, -20.75, -21.25, -21.75,\n",
       "       -22.25, -22.75, -23.25, -23.75, -24.25, -24.75, -25.25, -25.75,\n",
       "       -26.25, -26.75, -27.25, -27.75, -28.25, -28.75, -29.25, -29.75,\n",
       "       -30.25, -30.75, -31.25, -31.75, -32.25, -32.75, -33.25, -33.75,\n",
       "       -34.25, -34.75, -35.25, -35.75, -36.25, -36.75, -37.25, -37.75,\n",
       "       -38.25, -38.75, -39.25, -39.75, -40.25, -40.75, -41.25, -41.75,\n",
       "       -42.25, -42.75, -43.25, -43.75, -44.25, -44.75, -45.25, -45.75,\n",
       "       -46.25, -46.75, -47.25, -47.75, -48.25, -48.75, -49.25, -49.75,\n",
       "       -50.25, -50.75, -51.25, -51.75, -52.25, -52.75, -53.25, -53.75,\n",
       "       -54.25, -54.75, -55.25, -55.75, -56.25, -56.75, -57.25, -57.75,\n",
       "       -58.25, -58.75, -59.25, -59.75, -60.25, -60.75, -61.25, -61.75,\n",
       "       -62.25, -62.75, -63.25, -63.75, -64.25, -64.75, -65.25, -65.75,\n",
       "       -66.25, -66.75, -67.25, -67.75, -68.25, -68.75, -69.25, -69.75,\n",
       "       -70.25, -70.75, -71.25, -71.75, -72.25, -72.75, -73.25, -73.75,\n",
       "       -74.25, -74.75, -75.25, -75.75, -76.25, -76.75, -77.25, -77.75,\n",
       "       -78.25, -78.75, -79.25, -79.75, -80.25, -80.75, -81.25, -81.75,\n",
       "       -82.25, -82.75, -83.25, -83.75, -84.25, -84.75, -85.25, -85.75,\n",
       "       -86.25, -86.75, -87.25, -87.75, -88.25, -88.75, -89.25, -89.75])"
      ]
     },
     "execution_count": 12,
     "metadata": {},
     "output_type": "execute_result"
    }
   ],
   "execution_count": 12
  },
  {
   "cell_type": "markdown",
   "metadata": {
    "collapsed": false,
    "jupyter": {
     "outputs_hidden": false
    }
   },
   "source": [
    "#### Bounding box"
   ]
  },
  {
   "cell_type": "code",
   "metadata": {
    "collapsed": false,
    "jupyter": {
     "outputs_hidden": false
    },
    "ExecuteTime": {
     "end_time": "2025-08-25T20:19:06.170954Z",
     "start_time": "2025-01-12T19:14:02.198089Z"
    }
   },
   "source": [
    "dataset.bbox"
   ],
   "outputs": [
    {
     "data": {
      "text/plain": [
       "[0.0, -90.0, 360.0, 90.0]"
      ]
     },
     "execution_count": 13,
     "metadata": {},
     "output_type": "execute_result"
    }
   ],
   "execution_count": 13
  },
  {
   "cell_type": "code",
   "metadata": {
    "collapsed": false,
    "jupyter": {
     "outputs_hidden": false
    },
    "scrolled": true,
    "ExecuteTime": {
     "end_time": "2025-08-25T20:19:06.186596900Z",
     "start_time": "2025-01-12T19:14:03.350440Z"
    }
   },
   "source": "print(dataset.bounds)",
   "outputs": [
    {
     "name": "stdout",
     "output_type": "stream",
     "text": [
      "                                         geometry\n",
      "0  POLYGON ((0 90, 0 -90, 360 -90, 360 90, 0 90))\n"
     ]
    }
   ],
   "execution_count": 14
  },
  {
   "cell_type": "code",
   "metadata": {
    "collapsed": false,
    "jupyter": {
     "outputs_hidden": false
    },
    "ExecuteTime": {
     "end_time": "2025-08-25T20:19:06.186596900Z",
     "start_time": "2025-01-12T19:14:04.450731Z"
    }
   },
   "source": [
    "dataset.bounds.plot()"
   ],
   "outputs": [
    {
     "data": {
      "text/plain": [
       "<Axes: >"
      ]
     },
     "execution_count": 15,
     "metadata": {},
     "output_type": "execute_result"
    },
    {
     "data": {
      "text/plain": [
       "<Figure size 640x480 with 1 Axes>"
      ],
      "image/png": "[encoded data removed]"
     },
     "metadata": {},
     "output_type": "display_data"
    }
   ],
   "execution_count": 15
  },
  {
   "cell_type": "code",
   "metadata": {
    "collapsed": false,
    "jupyter": {
     "outputs_hidden": false
    },
    "ExecuteTime": {
     "end_time": "2025-08-25T20:19:06.186596900Z",
     "start_time": "2025-01-12T19:14:05.846630Z"
    }
   },
   "source": [
    "dataset.geotransform"
   ],
   "outputs": [
    {
     "data": {
      "text/plain": [
       "(0.0, 0.5, 0.0, 90.0, 0.0, -0.5)"
      ]
     },
     "execution_count": 16,
     "metadata": {},
     "output_type": "execute_result"
    }
   ],
   "execution_count": 16
  },
  {
   "cell_type": "code",
   "metadata": {
    "collapsed": false,
    "jupyter": {
     "outputs_hidden": false
    },
    "ExecuteTime": {
     "end_time": "2025-08-25T20:19:06.186596900Z",
     "start_time": "2025-01-12T19:14:07.081090Z"
    }
   },
   "source": [
    "dataset.top_left_corner"
   ],
   "outputs": [
    {
     "data": {
      "text/plain": [
       "(0.0, 90.0)"
      ]
     },
     "execution_count": 17,
     "metadata": {},
     "output_type": "execute_result"
    }
   ],
   "execution_count": 17
  }
 ],
 "metadata": {
  "kernelspec": {
   "display_name": "Python 3 (ipykernel)",
   "language": "python",
   "name": "python3"
  },
  "language_info": {
   "codemirror_mode": {
    "name": "ipython",
    "version": 3
   },
   "file_extension": ".py",
   "mimetype": "text/x-python",
   "name": "python",
   "nbconvert_exporter": "python",
   "pygments_lexer": "ipython3",
   "version": "3.12.4"
  }
 },
 "nbformat": 4,
 "nbformat_minor": 4
}
